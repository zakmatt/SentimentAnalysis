{
 "cells": [
  {
   "cell_type": "code",
   "execution_count": 7,
   "metadata": {},
   "outputs": [],
   "source": [
    "from pyspark.sql import SparkSession\n",
    "from pyspark.sql import Row\n",
    "from pyspark.sql.functions import col, count, length\n",
    "from pyspark.sql.types import StructType, StructField, IntegerType, StringType"
   ]
  },
  {
   "cell_type": "code",
   "execution_count": 2,
   "metadata": {},
   "outputs": [],
   "source": [
    "import matplotlib.pyplot as plt"
   ]
  },
  {
   "cell_type": "code",
   "execution_count": 3,
   "metadata": {},
   "outputs": [],
   "source": [
    "spark = SparkSession \\\n",
    "    .builder \\\n",
    "    .appName('DataCleaning') \\\n",
    "    .getOrCreate()"
   ]
  },
  {
   "cell_type": "code",
   "execution_count": 4,
   "metadata": {},
   "outputs": [],
   "source": [
    "%matplotlib inline"
   ]
  },
  {
   "cell_type": "code",
   "execution_count": 5,
   "metadata": {},
   "outputs": [],
   "source": [
    "FILE_PATH = 'data/training.csv'\n",
    "columns = ['sentiment', 'id', 'date', 'query', 'user', 'text']"
   ]
  },
  {
   "cell_type": "code",
   "execution_count": 8,
   "metadata": {},
   "outputs": [],
   "source": [
    "schema = StructType([\n",
    "    StructField(\"sentiment\", IntegerType(), True),\n",
    "    StructField(\"id\", IntegerType(), True),\n",
    "    StructField(\"date\", StringType(), True),\n",
    "    StructField(\"query\", StringType(), True),\n",
    "    StructField(\"user\", StringType(), True),\n",
    "    StructField(\"text\", StringType(), True)])"
   ]
  },
  {
   "cell_type": "code",
   "execution_count": 9,
   "metadata": {},
   "outputs": [],
   "source": [
    "data = spark.read.csv(FILE_PATH, header=False, schema=schema)"
   ]
  },
  {
   "cell_type": "code",
   "execution_count": 10,
   "metadata": {},
   "outputs": [],
   "source": [
    "data = data.select(['sentiment', 'text'])"
   ]
  },
  {
   "cell_type": "code",
   "execution_count": 121,
   "metadata": {},
   "outputs": [
    {
     "data": {
      "text/plain": [
       "1600000"
      ]
     },
     "execution_count": 121,
     "metadata": {},
     "output_type": "execute_result"
    }
   ],
   "source": [
    "data.count()"
   ]
  },
  {
   "cell_type": "code",
   "execution_count": 11,
   "metadata": {},
   "outputs": [
    {
     "name": "stdout",
     "output_type": "stream",
     "text": [
      "+---------+------+\n",
      "|sentiment| count|\n",
      "+---------+------+\n",
      "|        4|800000|\n",
      "|        0|800000|\n",
      "+---------+------+\n",
      "\n"
     ]
    }
   ],
   "source": [
    "data.groupby(col('sentiment')).count().show()"
   ]
  },
  {
   "cell_type": "code",
   "execution_count": 123,
   "metadata": {},
   "outputs": [
    {
     "name": "stdout",
     "output_type": "stream",
     "text": [
      "+---------+--------------------+\n",
      "|sentiment|                text|\n",
      "+---------+--------------------+\n",
      "|        0|@switchfoot http:...|\n",
      "|        0|is upset that he ...|\n",
      "|        0|@Kenichan I dived...|\n",
      "|        0|my whole body fee...|\n",
      "|        0|@nationwideclass ...|\n",
      "|        0|@Kwesidei not the...|\n",
      "|        0|         Need a hug |\n",
      "|        0|@LOLTrish hey  lo...|\n",
      "|        0|@Tatiana_K nope t...|\n",
      "|        0|@twittera que me ...|\n",
      "|        0|spring break in p...|\n",
      "|        0|I just re-pierced...|\n",
      "|        0|@caregiving I cou...|\n",
      "|        0|@octolinz16 It it...|\n",
      "|        0|@smarrison i woul...|\n",
      "|        0|@iamjazzyfizzle I...|\n",
      "|        0|Hollis' death sce...|\n",
      "|        0|about to file taxes |\n",
      "|        0|@LettyA ahh ive a...|\n",
      "|        0|@FakerPattyPattz ...|\n",
      "+---------+--------------------+\n",
      "only showing top 20 rows\n",
      "\n"
     ]
    }
   ],
   "source": [
    "data.show()"
   ]
  },
  {
   "cell_type": "code",
   "execution_count": 124,
   "metadata": {},
   "outputs": [
    {
     "name": "stdout",
     "output_type": "stream",
     "text": [
      "+---------+--------------------+\n",
      "|sentiment|                text|\n",
      "+---------+--------------------+\n",
      "|        4|I LOVE @Health4Ua...|\n",
      "|        4|im meeting up wit...|\n",
      "|        4|@DaRealSunisaKim ...|\n",
      "|        4|Being sick can be...|\n",
      "|        4|@LovesBrooklyn2 h...|\n",
      "|        4|@ProductOfFear Yo...|\n",
      "|        4|@r_keith_hill Tha...|\n",
      "|        4|@KeepinUpWKris I ...|\n",
      "|        4|@tommcfly ah, con...|\n",
      "|        4|@e4VoIP I RESPOND...|\n",
      "|        4|crazy day of scho...|\n",
      "|        4|@naughtyhaughty H...|\n",
      "|        4|@nileyjileyluver ...|\n",
      "|        4|@soundwav2010 At ...|\n",
      "|        4|@LutheranLucciol ...|\n",
      "|        4|Just added tweeti...|\n",
      "|        4|@michellardi i re...|\n",
      "|        4|@nicolerichie: yo...|\n",
      "|        4|Catching Up on Em...|\n",
      "|        4|Dancing around th...|\n",
      "+---------+--------------------+\n",
      "only showing top 20 rows\n",
      "\n"
     ]
    }
   ],
   "source": [
    "data.where(data.sentiment == 4).show()"
   ]
  },
  {
   "cell_type": "code",
   "execution_count": 125,
   "metadata": {},
   "outputs": [],
   "source": [
    "data = data.withColumn('text_len', length(col('text'))).orderBy(col('text_len'), ascending=False)"
   ]
  },
  {
   "cell_type": "code",
   "execution_count": 126,
   "metadata": {},
   "outputs": [
    {
     "name": "stdout",
     "output_type": "stream",
     "text": [
      "+---------+--------------------+--------+\n",
      "|sentiment|                text|text_len|\n",
      "+---------+--------------------+--------+\n",
      "|        4|5 days till new t...|     359|\n",
      "|        4|Thriving Ivory's ...|     235|\n",
      "|        4|BROOKE - &quot;fr...|     227|\n",
      "|        4|@LyNn_4 &quot;Hum...|     226|\n",
      "|        4|I know pi to 12 d...|     220|\n",
      "|        4|@curiousillusion ...|     202|\n",
      "|        4|@antiprism &quot;...|     188|\n",
      "|        0|so 3.0 update cha...|     188|\n",
      "|        0|Maybe it's just m...|     186|\n",
      "|        4|#MusicMonday &quo...|     182|\n",
      "|        0|I love that he &q...|     182|\n",
      "|        4|@Jonasbrothers I ...|     182|\n",
      "|        4|Today's &quot;lon...|     181|\n",
      "|        0|Raining steady in...|     181|\n",
      "|        0|@matsuma &quot;un...|     180|\n",
      "|        4|&quot;Can I have ...|     179|\n",
      "|        4|Can common/drone ...|     178|\n",
      "|        4|Got my &quot;Stim...|     178|\n",
      "|        0|&quot;i leave you...|     178|\n",
      "|        4|@MGiraudOfficial ...|     178|\n",
      "+---------+--------------------+--------+\n",
      "only showing top 20 rows\n",
      "\n"
     ]
    }
   ],
   "source": [
    "data.show()"
   ]
  },
  {
   "cell_type": "code",
   "execution_count": 127,
   "metadata": {},
   "outputs": [],
   "source": [
    "box_data = data.select('text_len').toPandas()"
   ]
  },
  {
   "cell_type": "code",
   "execution_count": 128,
   "metadata": {},
   "outputs": [
    {
     "data": {
      "image/png": "[encoded data removed]",
      "text/plain": [
       "<matplotlib.figure.Figure at 0x1167b1240>"
      ]
     },
     "metadata": {},
     "output_type": "display_data"
    }
   ],
   "source": [
    "fig, ax = plt.subplots(figsize=(6, 6))\n",
    "plt.boxplot(box_data.text_len)\n",
    "plt.show()"
   ]
  },
  {
   "cell_type": "code",
   "execution_count": 129,
   "metadata": {},
   "outputs": [
    {
     "name": "stdout",
     "output_type": "stream",
     "text": [
      "+---------+--------------------+--------+\n",
      "|sentiment|                text|text_len|\n",
      "+---------+--------------------+--------+\n",
      "|        4|5 days till new t...|     359|\n",
      "|        4|Thriving Ivory's ...|     235|\n",
      "|        4|BROOKE - &quot;fr...|     227|\n",
      "|        4|@LyNn_4 &quot;Hum...|     226|\n",
      "|        4|I know pi to 12 d...|     220|\n",
      "|        4|@curiousillusion ...|     202|\n",
      "|        0|so 3.0 update cha...|     188|\n",
      "|        4|@antiprism &quot;...|     188|\n",
      "|        0|Maybe it's just m...|     186|\n",
      "|        4|#MusicMonday &quo...|     182|\n",
      "|        0|I love that he &q...|     182|\n",
      "|        4|@Jonasbrothers I ...|     182|\n",
      "|        4|Today's &quot;lon...|     181|\n",
      "|        0|Raining steady in...|     181|\n",
      "|        0|@matsuma &quot;un...|     180|\n",
      "|        4|&quot;Can I have ...|     179|\n",
      "|        4|@MGiraudOfficial ...|     178|\n",
      "|        4|@doax 어차피 bandwid...|     178|\n",
      "|        4|Got my &quot;Stim...|     178|\n",
      "|        4|Can common/drone ...|     178|\n",
      "+---------+--------------------+--------+\n",
      "only showing top 20 rows\n",
      "\n"
     ]
    }
   ],
   "source": [
    "data.where(col('text_len') > 150).show()"
   ]
  },
  {
   "cell_type": "code",
   "execution_count": 132,
   "metadata": {},
   "outputs": [
    {
     "name": "stdout",
     "output_type": "stream",
     "text": [
      "+--------------------+\n",
      "|                text|\n",
      "+--------------------+\n",
      "|http://bit.ly/hJE...|\n",
      "|http://ping.fm/LZ...|\n",
      "|http://twitpic.co...|\n",
      "|http://twitpic.co...|\n",
      "|http://tinyurl.co...|\n",
      "|http://twitpic.co...|\n",
      "|http://twitpic.co...|\n",
      "|http://digg.com/u...|\n",
      "|http://3mix.com/~...|\n",
      "|http://digg.com/u...|\n",
      "|http://bit.ly/tHy...|\n",
      "|http://twitpic.co...|\n",
      "|http://twitpic.co...|\n",
      "|http://yfrog.com/...|\n",
      "|http://twitpic.co...|\n",
      "|http://www.mattma...|\n",
      "|http://www.lankaj...|\n",
      "|http://twitpic.co...|\n",
      "|http://twitpic.co...|\n",
      "|http://twitpic.co...|\n",
      "+--------------------+\n",
      "only showing top 20 rows\n",
      "\n"
     ]
    }
   ],
   "source": [
    "data.filter(data.text.like('http%')).select('text').show()"
   ]
  },
  {
   "cell_type": "markdown",
   "metadata": {},
   "source": [
    "# HTML Formatting"
   ]
  },
  {
   "cell_type": "code",
   "execution_count": 24,
   "metadata": {},
   "outputs": [],
   "source": [
    "from bs4 import BeautifulSoup"
   ]
  },
  {
   "cell_type": "code",
   "execution_count": 145,
   "metadata": {},
   "outputs": [],
   "source": [
    "html_text = data.filter(data.text.like('%quot%')).select('text').first().text"
   ]
  },
  {
   "cell_type": "code",
   "execution_count": 146,
   "metadata": {},
   "outputs": [
    {
     "data": {
      "text/plain": [
       "\"Thriving Ivory's song &quot;Twilight&quot; &gt;&gt;&gt;&gt;&gt;&gt;&gt;&gt;&gt;&gt;&gt;&gt;&gt;&gt;&gt;&gt;&gt;&gt;&gt;&gt;&gt;&gt;&gt;&gt;&gt;&gt;&gt;&gt;&gt;&gt;&gt;&gt;&gt;&gt;&gt;&gt;&gt;&gt;&gt;&gt;&gt;&gt;&gt; the other Twilight \""
      ]
     },
     "execution_count": 146,
     "metadata": {},
     "output_type": "execute_result"
    }
   ],
   "source": [
    "html_text"
   ]
  },
  {
   "cell_type": "code",
   "execution_count": 147,
   "metadata": {},
   "outputs": [
    {
     "data": {
      "text/plain": [
       "<html><body><p>Thriving Ivory's song \"Twilight\" &gt;&gt;&gt;&gt;&gt;&gt;&gt;&gt;&gt;&gt;&gt;&gt;&gt;&gt;&gt;&gt;&gt;&gt;&gt;&gt;&gt;&gt;&gt;&gt;&gt;&gt;&gt;&gt;&gt;&gt;&gt;&gt;&gt;&gt;&gt;&gt;&gt;&gt;&gt;&gt;&gt;&gt;&gt; the other Twilight </p></body></html>"
      ]
     },
     "execution_count": 147,
     "metadata": {},
     "output_type": "execute_result"
    }
   ],
   "source": [
    "BeautifulSoup(html_text, 'lxml')"
   ]
  },
  {
   "cell_type": "code",
   "execution_count": 148,
   "metadata": {},
   "outputs": [
    {
     "data": {
      "text/plain": [
       "'Thriving Ivory\\'s song \"Twilight\" >>>>>>>>>>>>>>>>>>>>>>>>>>>>>>>>>>>>>>>>>>> the other Twilight '"
      ]
     },
     "execution_count": 148,
     "metadata": {},
     "output_type": "execute_result"
    }
   ],
   "source": [
    "BeautifulSoup(html_text, 'lxml').get_text()"
   ]
  },
  {
   "cell_type": "markdown",
   "metadata": {},
   "source": [
    "# Removing Mentioning (@)"
   ]
  },
  {
   "cell_type": "code",
   "execution_count": 149,
   "metadata": {},
   "outputs": [],
   "source": [
    "mentioning_text = data.filter(data.text.like('%@%')).select('text').first().text"
   ]
  },
  {
   "cell_type": "code",
   "execution_count": 152,
   "metadata": {},
   "outputs": [
    {
     "data": {
      "text/plain": [
       "'@LyNn_4 &quot;Human,&quot; &quot;Rehab,&quot; &quot;Sex On Fire,&quot; &quot;So What,&quot; &quot;Reach Out,&quot; &quot;Womanizer,&quot; &quot;Keeps Getting Better,&quot; &quot;Love Lockdown&quot; &amp; &quot;Not Fair.&quot; '"
      ]
     },
     "execution_count": 152,
     "metadata": {},
     "output_type": "execute_result"
    }
   ],
   "source": [
    "mentioning_text"
   ]
  },
  {
   "cell_type": "code",
   "execution_count": 153,
   "metadata": {},
   "outputs": [],
   "source": [
    "import re"
   ]
  },
  {
   "cell_type": "code",
   "execution_count": 156,
   "metadata": {},
   "outputs": [
    {
     "data": {
      "text/plain": [
       "' &quot;Human,&quot; &quot;Rehab,&quot; &quot;Sex On Fire,&quot; &quot;So What,&quot; &quot;Reach Out,&quot; &quot;Womanizer,&quot; &quot;Keeps Getting Better,&quot; &quot;Love Lockdown&quot; &amp; &quot;Not Fair.&quot; '"
      ]
     },
     "execution_count": 156,
     "metadata": {},
     "output_type": "execute_result"
    }
   ],
   "source": [
    "re.sub(pattern=r'@[A-Za-z0-9_]+', repl='', string=mentioning_text)"
   ]
  },
  {
   "cell_type": "markdown",
   "metadata": {},
   "source": [
    "# Removing HTML"
   ]
  },
  {
   "cell_type": "code",
   "execution_count": 158,
   "metadata": {},
   "outputs": [],
   "source": [
    "http_text = data.filter(data.text.like('%http%')).select('text').first().text"
   ]
  },
  {
   "cell_type": "code",
   "execution_count": 178,
   "metadata": {},
   "outputs": [],
   "source": [
    "http_text += 'www.someaddress.ca/?super@sign^/'"
   ]
  },
  {
   "cell_type": "code",
   "execution_count": 180,
   "metadata": {},
   "outputs": [
    {
     "data": {
      "text/plain": [
       "'listening vi @Gaz50: &quot;@scotlandlover, Its only 12.22 ere  &gt;&gt;&gt;&gt;&gt;&gt;&gt;&gt;&gt; Time(Clock of the heart).........Culture ... ♫ http://blip.fm/~7plt5www.someaddress.ca/?super@sign^/'"
      ]
     },
     "execution_count": 180,
     "metadata": {},
     "output_type": "execute_result"
    }
   ],
   "source": [
    "http_text"
   ]
  },
  {
   "cell_type": "code",
   "execution_count": 179,
   "metadata": {},
   "outputs": [
    {
     "data": {
      "text/plain": [
       "'listening vi @Gaz50: &quot;@scotlandlover, Its only 12.22 ere  &gt;&gt;&gt;&gt;&gt;&gt;&gt;&gt;&gt; Time(Clock of the heart).........Culture ... ♫ '"
      ]
     },
     "execution_count": 179,
     "metadata": {},
     "output_type": "execute_result"
    }
   ],
   "source": [
    "re.sub(pattern=r'\\w+:\\/{2}[\\d\\w-]+(\\.[\\d\\w-]+)*(?:(?:\\/[^\\s/]*))*', repl='', string=http_text)"
   ]
  },
  {
   "cell_type": "code",
   "execution_count": 163,
   "metadata": {},
   "outputs": [],
   "source": [
    "https_text = data.filter(data.text.like('%https%')).select('text').first().text"
   ]
  },
  {
   "cell_type": "code",
   "execution_count": 164,
   "metadata": {},
   "outputs": [
    {
     "data": {
      "text/plain": [
       "\"I go to &quot;User Experience Roundtable Hamburg - Detlev Fischer on Accessibility, BITV Test&quot; https://www.xing.com/events/333622 Don't miss! \""
      ]
     },
     "execution_count": 164,
     "metadata": {},
     "output_type": "execute_result"
    }
   ],
   "source": [
    "https_text"
   ]
  },
  {
   "cell_type": "code",
   "execution_count": 165,
   "metadata": {},
   "outputs": [
    {
     "data": {
      "text/plain": [
       "\"I go to &quot;User Experience Roundtable Hamburg - Detlev Fischer on Accessibility, BITV Test&quot;  Don't miss! \""
      ]
     },
     "execution_count": 165,
     "metadata": {},
     "output_type": "execute_result"
    }
   ],
   "source": [
    "re.sub(pattern=r'https?://[A-Za-z0-9./]+', repl='', string=https_text)"
   ]
  },
  {
   "cell_type": "markdown",
   "metadata": {},
   "source": [
    "# Removing Byte Order Marks"
   ]
  },
  {
   "cell_type": "code",
   "execution_count": 170,
   "metadata": {},
   "outputs": [],
   "source": [
    "bom_text = data.filter(data.text.like('%\\'ll%')).select('text').first().text"
   ]
  },
  {
   "cell_type": "code",
   "execution_count": 173,
   "metadata": {},
   "outputs": [
    {
     "data": {
      "text/plain": [
       "'&quot;I will see you again yeah?&quot; &quot;Its up to you&quot; &quot;I guarantee you will, i dont want to wait to long not seeing you&quot; fuckin fruit basket! Hahaha '"
      ]
     },
     "execution_count": 173,
     "metadata": {},
     "output_type": "execute_result"
    }
   ],
   "source": [
    "re.sub(r'\\'ll', ' will', bom_text)"
   ]
  },
  {
   "cell_type": "markdown",
   "metadata": {},
   "source": [
    "# Remove data that is neither numerical nor alphabetical"
   ]
  },
  {
   "cell_type": "code",
   "execution_count": 181,
   "metadata": {},
   "outputs": [],
   "source": [
    "hashtag_text = data.filter(data.text.like('%#%')).select('text').first().text"
   ]
  },
  {
   "cell_type": "code",
   "execution_count": 182,
   "metadata": {},
   "outputs": [
    {
     "data": {
      "text/plain": [
       "\"#MusicMonday &quot;I love you&quot; Faith Evans....&quot;Something That I Like&quot; Ryan Leslie.....Mario &quot;Good One&quot;....&amp; &quot;He Ain't Wit Me Now Tho&quot; Richgirl \""
      ]
     },
     "execution_count": 182,
     "metadata": {},
     "output_type": "execute_result"
    }
   ],
   "source": [
    "hashtag_text"
   ]
  },
  {
   "cell_type": "code",
   "execution_count": 187,
   "metadata": {},
   "outputs": [
    {
     "data": {
      "text/plain": [
       "' MusicMonday  quot I love you quot  Faith Evans     quot Something That I Like quot  Ryan Leslie     Mario  quot Good One quot      amp   quot He Ain t Wit Me Now Tho quot  Richgirl '"
      ]
     },
     "execution_count": 187,
     "metadata": {},
     "output_type": "execute_result"
    }
   ],
   "source": [
    "re.sub(pattern=r'[^A-Za-z0-9]', repl=' ', string=hashtag_text)"
   ]
  },
  {
   "cell_type": "markdown",
   "metadata": {},
   "source": [
    "# Summary of the previous method and data cleaning"
   ]
  },
  {
   "cell_type": "code",
   "execution_count": 17,
   "metadata": {},
   "outputs": [],
   "source": [
    "import re\n",
    "from nltk.tokenize import WordPunctTokenizer"
   ]
  },
  {
   "cell_type": "code",
   "execution_count": 13,
   "metadata": {},
   "outputs": [],
   "source": [
    "tokenizer = WordPunctTokenizer()"
   ]
  },
  {
   "cell_type": "code",
   "execution_count": 31,
   "metadata": {},
   "outputs": [],
   "source": [
    "mention_pat = r'@[A-Za-z0-9_]+'\n",
    "url_pat = r'\\w+:\\/{2}[\\d\\w-]+(\\.[\\d\\w-]+)*(?:(?:\\/[^\\s/]*))*'\n",
    "negation_dict = {\n",
    "    \"isn't\": \"is not\",\n",
    "    \"aren't\": \"are not\",\n",
    "    \"don't\": \"do not\",\n",
    "    \"doesn't\": \"does not\",\n",
    "    \"didn't\": \"did not\",\n",
    "    \"haven't\": \"have not\",\n",
    "    \"hasn't\": \"has not\",\n",
    "    \"mustn't\": \"must not\",\n",
    "    \"wasn't\": \"was not\",\n",
    "    \"weren't\": \"were not\",\n",
    "    \"hadn't\": \"had not\",\n",
    "    \"won't\": \"will not\",\n",
    "    \"wouldn't\": \"would not\",\n",
    "    \"can't\": \"can not\",\n",
    "    \"couldn't\": \"could not\",\n",
    "    \"shouldn't\": \"should not\",\n",
    "    \"mightn't\": \"might not\",\n",
    "}\n",
    "full_pat = r'|'.join([mention_pat, url_pat])"
   ]
  },
  {
   "cell_type": "code",
   "execution_count": 32,
   "metadata": {},
   "outputs": [
    {
     "data": {
      "text/plain": [
       "'@[A-Za-z0-9_]+|\\\\w+:\\\\/{2}[\\\\d\\\\w-]+(\\\\.[\\\\d\\\\w-]+)*(?:(?:\\\\/[^\\\\s/]*))*'"
      ]
     },
     "execution_count": 32,
     "metadata": {},
     "output_type": "execute_result"
    }
   ],
   "source": [
    "full_pat"
   ]
  },
  {
   "cell_type": "code",
   "execution_count": 33,
   "metadata": {},
   "outputs": [],
   "source": [
    "neg_pattern = re.compile(r'\\b(' + '|'.join(negation_dict.keys()) + r')\\b')"
   ]
  },
  {
   "cell_type": "code",
   "execution_count": 34,
   "metadata": {},
   "outputs": [
    {
     "data": {
      "text/plain": [
       "re.compile(r\"\\b(isn't|aren't|don't|doesn't|didn't|haven't|hasn't|mustn't|wasn't|weren't|hadn't|won't|wouldn't|can't|couldn't|shouldn't|mightn't)\\b\",\n",
       "re.UNICODE)"
      ]
     },
     "execution_count": 34,
     "metadata": {},
     "output_type": "execute_result"
    }
   ],
   "source": [
    "neg_pattern"
   ]
  },
  {
   "cell_type": "code",
   "execution_count": 40,
   "metadata": {},
   "outputs": [],
   "source": [
    "def text_cleaner(text):\n",
    "    text = BeautifulSoup(text, 'lxml').get_text()\n",
    "    text = re.sub(pattern=full_pat, repl='', string=text)\n",
    "    text = re.sub(pattern=url_pat, repl='', string=text)\n",
    "    text = re.sub(r'\\'ll', ' will', text)\n",
    "    text = re.sub(r'\\'ve', ' have', text)\n",
    "    text = text.lower()\n",
    "    text = neg_pattern.sub(lambda x: negation_dict[x.group()], text)\n",
    "    text = re.sub(pattern=r'[^A-Za-z]', repl=' ', string=text) # letters only\n",
    "    words = [x for x in tokenizer.tokenize(text) if len(x) > 0]\n",
    "    return (' '.join(words)).strip()"
   ]
  },
  {
   "cell_type": "code",
   "execution_count": 37,
   "metadata": {},
   "outputs": [],
   "source": [
    "from pyspark.sql.functions import udf"
   ]
  },
  {
   "cell_type": "code",
   "execution_count": 41,
   "metadata": {},
   "outputs": [],
   "source": [
    "txt_cleaner_udf = udf(lambda text: text_cleaner(text), StringType())"
   ]
  },
  {
   "cell_type": "code",
   "execution_count": 198,
   "metadata": {},
   "outputs": [
    {
     "name": "stdout",
     "output_type": "stream",
     "text": [
      "+---------+--------------------+--------+\n",
      "|sentiment|                text|text_len|\n",
      "+---------+--------------------+--------+\n",
      "|        4|5 days till new t...|     359|\n",
      "|        4|Thriving Ivory's ...|     235|\n",
      "|        4|BROOKE - &quot;fr...|     227|\n",
      "|        4|@LyNn_4 &quot;Hum...|     226|\n",
      "|        4|I know pi to 12 d...|     220|\n",
      "|        4|@curiousillusion ...|     202|\n",
      "|        4|@antiprism &quot;...|     188|\n",
      "|        0|so 3.0 update cha...|     188|\n",
      "|        0|Maybe it's just m...|     186|\n",
      "|        4|#MusicMonday &quo...|     182|\n",
      "|        0|I love that he &q...|     182|\n",
      "|        4|@Jonasbrothers I ...|     182|\n",
      "|        4|Today's &quot;lon...|     181|\n",
      "|        0|Raining steady in...|     181|\n",
      "|        0|@matsuma &quot;un...|     180|\n",
      "|        4|&quot;Can I have ...|     179|\n",
      "|        4|Can common/drone ...|     178|\n",
      "|        4|Got my &quot;Stim...|     178|\n",
      "|        0|&quot;i leave you...|     178|\n",
      "|        4|@MGiraudOfficial ...|     178|\n",
      "+---------+--------------------+--------+\n",
      "only showing top 20 rows\n",
      "\n"
     ]
    }
   ],
   "source": [
    "data.show()"
   ]
  },
  {
   "cell_type": "code",
   "execution_count": 43,
   "metadata": {},
   "outputs": [],
   "source": [
    "data = data.select('sentiment', 'text', txt_cleaner_udf('text').alias('clean'))"
   ]
  },
  {
   "cell_type": "code",
   "execution_count": 44,
   "metadata": {},
   "outputs": [
    {
     "name": "stdout",
     "output_type": "stream",
     "text": [
      "+---------+--------------------+--------------------+\n",
      "|sentiment|                text|               clean|\n",
      "+---------+--------------------+--------------------+\n",
      "|        0|@switchfoot http:...|awww that s a bum...|\n",
      "|        0|is upset that he ...|is upset that he ...|\n",
      "|        0|@Kenichan I dived...|i dived many time...|\n",
      "|        0|my whole body fee...|my whole body fee...|\n",
      "|        0|@nationwideclass ...|no it s not behav...|\n",
      "|        0|@Kwesidei not the...|  not the whole crew|\n",
      "|        0|         Need a hug |          need a hug|\n",
      "|        0|@LOLTrish hey  lo...|hey long time no ...|\n",
      "|        0|@Tatiana_K nope t...|nope they did not...|\n",
      "|        0|@twittera que me ...|        que me muera|\n",
      "|        0|spring break in p...|spring break in p...|\n",
      "|        0|I just re-pierced...|i just re pierced...|\n",
      "|        0|@caregiving I cou...|i could not bear ...|\n",
      "|        0|@octolinz16 It it...|it it counts idk ...|\n",
      "|        0|@smarrison i woul...|i would have been...|\n",
      "|        0|@iamjazzyfizzle I...|i wish i got to w...|\n",
      "|        0|Hollis' death sce...|hollis death scen...|\n",
      "|        0|about to file taxes | about to file taxes|\n",
      "|        0|@LettyA ahh ive a...|ahh ive always wa...|\n",
      "|        0|@FakerPattyPattz ...|oh dear were you ...|\n",
      "+---------+--------------------+--------------------+\n",
      "only showing top 20 rows\n",
      "\n"
     ]
    }
   ],
   "source": [
    "data.show()"
   ]
  },
  {
   "cell_type": "code",
   "execution_count": 47,
   "metadata": {},
   "outputs": [],
   "source": [
    "data = data.select('sentiment', col('clean').alias('text'))"
   ]
  },
  {
   "cell_type": "code",
   "execution_count": 48,
   "metadata": {},
   "outputs": [],
   "source": [
    "data.write.parquet(\"clean_tweets.parquet\")"
   ]
  },
  {
   "cell_type": "code",
   "execution_count": null,
   "metadata": {},
   "outputs": [],
   "source": []
  }
 ],
 "metadata": {
  "kernelspec": {
   "display_name": "Python 3",
   "language": "python",
   "name": "python3"
  },
  "language_info": {
   "codemirror_mode": {
    "name": "ipython",
    "version": 3
   },
   "file_extension": ".py",
   "mimetype": "text/x-python",
   "name": "python",
   "nbconvert_exporter": "python",
   "pygments_lexer": "ipython3",
   "version": "3.6.3"
  }
 },
 "nbformat": 4,
 "nbformat_minor": 2
}
