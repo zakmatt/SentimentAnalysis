{
 "cells": [
  {
   "cell_type": "code",
   "execution_count": 1,
   "metadata": {},
   "outputs": [],
   "source": [
    "import pyspark as ps\n",
    "import warnings\n",
    "\n",
    "from pyspark import SparkContext\n",
    "from pyspark.sql import SQLContext, SparkSession"
   ]
  },
  {
   "cell_type": "code",
   "execution_count": 2,
   "metadata": {},
   "outputs": [],
   "source": [
    "spark = SparkSession \\\n",
    "    .builder \\\n",
    "    .appName('SentimentAnalysis') \\\n",
    "    .getOrCreate()"
   ]
  },
  {
   "cell_type": "code",
   "execution_count": 3,
   "metadata": {},
   "outputs": [],
   "source": [
    "data = spark.read.parquet('clean_tweets.parquet')"
   ]
  },
  {
   "cell_type": "code",
   "execution_count": 5,
   "metadata": {},
   "outputs": [
    {
     "name": "stdout",
     "output_type": "stream",
     "text": [
      "+---------+--------------------+\n",
      "|sentiment|                text|\n",
      "+---------+--------------------+\n",
      "|        0|awww that s a bum...|\n",
      "|        0|is upset that he ...|\n",
      "|        0|i dived many time...|\n",
      "|        0|my whole body fee...|\n",
      "|        0|no it s not behav...|\n",
      "|        0|  not the whole crew|\n",
      "|        0|          need a hug|\n",
      "|        0|hey long time no ...|\n",
      "|        0|nope they did not...|\n",
      "|        0|        que me muera|\n",
      "|        0|spring break in p...|\n",
      "|        0|i just re pierced...|\n",
      "|        0|i could not bear ...|\n",
      "|        0|it it counts idk ...|\n",
      "|        0|i would have been...|\n",
      "|        0|i wish i got to w...|\n",
      "|        0|hollis death scen...|\n",
      "|        0| about to file taxes|\n",
      "|        0|ahh ive always wa...|\n",
      "|        0|oh dear were you ...|\n",
      "+---------+--------------------+\n",
      "only showing top 20 rows\n",
      "\n"
     ]
    }
   ],
   "source": [
    "data.show()"
   ]
  },
  {
   "cell_type": "code",
   "execution_count": 6,
   "metadata": {},
   "outputs": [
    {
     "name": "stdout",
     "output_type": "stream",
     "text": [
      "+---------+--------------------+\n",
      "|sentiment|                text|\n",
      "+---------+--------------------+\n",
      "|        4|i love u guys r t...|\n",
      "|        4|im meeting up wit...|\n",
      "|        4|thanks for the tw...|\n",
      "|        4|being sick can be...|\n",
      "|        4|he has that effec...|\n",
      "|        4|you can tell him ...|\n",
      "|        4|thans for your re...|\n",
      "|        4|i am so jealous h...|\n",
      "|        4|ah congrats mr fl...|\n",
      "|        4|i responded stupi...|\n",
      "|        4|crazy day of scho...|\n",
      "|        4|how did i forget ...|\n",
      "|        4|haha do not worry...|\n",
      "|        4|at least i will n...|\n",
      "|        4|make sure you dm ...|\n",
      "|        4|just added tweeti...|\n",
      "|        4|i really do not k...|\n",
      "|        4|your picture is v...|\n",
      "|        4|catching up on em...|\n",
      "|        4|dancing around th...|\n",
      "+---------+--------------------+\n",
      "only showing top 20 rows\n",
      "\n"
     ]
    }
   ],
   "source": [
    "data.filter(data.sentiment==4).show()"
   ]
  },
  {
   "cell_type": "code",
   "execution_count": 7,
   "metadata": {},
   "outputs": [
    {
     "data": {
      "text/plain": [
       "1600000"
      ]
     },
     "execution_count": 7,
     "metadata": {},
     "output_type": "execute_result"
    }
   ],
   "source": [
    "data.count()"
   ]
  },
  {
   "cell_type": "code",
   "execution_count": 8,
   "metadata": {},
   "outputs": [
    {
     "data": {
      "text/plain": [
       "1596283"
      ]
     },
     "execution_count": 8,
     "metadata": {},
     "output_type": "execute_result"
    }
   ],
   "source": [
    "data.filter(data.text != '').count()"
   ]
  },
  {
   "cell_type": "code",
   "execution_count": 16,
   "metadata": {},
   "outputs": [],
   "source": [
    "data = data.filter(data.text != '')"
   ]
  },
  {
   "cell_type": "code",
   "execution_count": 17,
   "metadata": {},
   "outputs": [],
   "source": [
    "train_df, val_df, test_df = data.randomSplit([0.9, 0.05, 0.05], seed = 2000)"
   ]
  },
  {
   "cell_type": "code",
   "execution_count": 5,
   "metadata": {},
   "outputs": [
    {
     "name": "stdout",
     "output_type": "stream",
     "text": [
      "train data count: 1439849\n",
      "validation data count: 80068\n",
      "test data count: 80083\n"
     ]
    }
   ],
   "source": [
    "print(\"train data count: {0}\\nvalidation data count: {1}\\ntest data count: {2}\"\\\n",
    "      .format(train_df.count(), val_df.count(), test_df.count()))"
   ]
  },
  {
   "cell_type": "code",
   "execution_count": 6,
   "metadata": {},
   "outputs": [],
   "source": [
    "from pyspark.ml.feature import HashingTF, IDF, Tokenizer\n",
    "from pyspark.ml.feature import StringIndexer\n",
    "from pyspark.ml import Pipeline"
   ]
  },
  {
   "cell_type": "code",
   "execution_count": 7,
   "metadata": {},
   "outputs": [],
   "source": [
    "tokenizer = Tokenizer(inputCol='text', outputCol='words')\n",
    "tf = HashingTF(inputCol='words', outputCol='tf')\n",
    "idf = IDF(minDocFreq=5, inputCol='tf', outputCol='features')\n",
    "label_idx = StringIndexer(inputCol='sentiment', outputCol='label')\n",
    "pipeline = Pipeline(stages=[tokenizer, tf, idf, label_idx])"
   ]
  },
  {
   "cell_type": "code",
   "execution_count": 18,
   "metadata": {},
   "outputs": [],
   "source": [
    "pipelineFit = pipeline.fit(train_df)\n",
    "train_set = pipelineFit.transform(train_df)\n",
    "val_set = pipelineFit.transform(val_df)"
   ]
  },
  {
   "cell_type": "code",
   "execution_count": 15,
   "metadata": {},
   "outputs": [
    {
     "name": "stdout",
     "output_type": "stream",
     "text": [
      "+---------+--------------------+--------------------+--------------------+--------------------+-----+\n",
      "|sentiment|                text|               words|                  tf|            features|label|\n",
      "+---------+--------------------+--------------------+--------------------+--------------------+-----+\n",
      "|        4|a beard is a grea...|[a, beard, is, a,...|(262144,[9017,158...|(262144,[9017,158...|  1.0|\n",
      "|        4|a beautiful morni...|[a, beautiful, mo...|(262144,[1998,119...|(262144,[1998,119...|  1.0|\n",
      "|        4|a beautifully des...|[a, beautifully, ...|(262144,[41170,59...|(262144,[41170,59...|  1.0|\n",
      "|        4|a brand spanking ...|[a, brand, spanki...|(262144,[29945,17...|(262144,[29945,17...|  1.0|\n",
      "|        4|a bright happy da...|[a, bright, happy...|(262144,[1672,139...|(262144,[1672,139...|  1.0|\n",
      "+---------+--------------------+--------------------+--------------------+--------------------+-----+\n",
      "only showing top 5 rows\n",
      "\n"
     ]
    }
   ],
   "source": [
    "train_set.filter(train_df.sentiment==4).show(5)"
   ]
  },
  {
   "cell_type": "code",
   "execution_count": 16,
   "metadata": {},
   "outputs": [],
   "source": [
    "from pyspark.ml.classification import LogisticRegression\n",
    "clf = LogisticRegression(maxIter=100)\n",
    "clf_model = clf.fit(train_set)\n",
    "predictions = clf_model.transform(val_set)"
   ]
  },
  {
   "cell_type": "code",
   "execution_count": 17,
   "metadata": {},
   "outputs": [
    {
     "data": {
      "text/plain": [
       "['sentiment',\n",
       " 'text',\n",
       " 'words',\n",
       " 'tf',\n",
       " 'features',\n",
       " 'label',\n",
       " 'rawPrediction',\n",
       " 'probability',\n",
       " 'prediction']"
      ]
     },
     "execution_count": 17,
     "metadata": {},
     "output_type": "execute_result"
    }
   ],
   "source": [
    "predictions.columns"
   ]
  },
  {
   "cell_type": "code",
   "execution_count": 18,
   "metadata": {},
   "outputs": [
    {
     "name": "stdout",
     "output_type": "stream",
     "text": [
      "+---------+--------------------+-----+--------------------+----------+\n",
      "|sentiment|                text|label|       rawPrediction|prediction|\n",
      "+---------+--------------------+-----+--------------------+----------+\n",
      "|        4|a mix i made if y...|  1.0|[-2.7747058024087...|       1.0|\n",
      "|        4|    afternoon tweeps|  1.0|[-1.0369904330769...|       1.0|\n",
      "|        4|also welcoming ne...|  1.0|[-1.1228841734686...|       1.0|\n",
      "|        4|and another one j...|  1.0|[-1.4246836651099...|       1.0|\n",
      "|        4|anyone tried game...|  1.0|[-2.2083665442775...|       1.0|\n",
      "|        4|as details slowly...|  1.0|[-0.1062465132762...|       1.0|\n",
      "|        4|as long as you ar...|  1.0|[0.68929538472486...|       0.0|\n",
      "|        4|at all the shows ...|  1.0|[-2.7339951183549...|       1.0|\n",
      "|        4|aw well aint u lo...|  1.0|[-0.3906026265254...|       1.0|\n",
      "|        4|awwwww you must h...|  1.0|[-0.9197121875671...|       1.0|\n",
      "|        4|battlefield heroe...|  1.0|[-2.1374268992547...|       1.0|\n",
      "|        4|bought yum fresh ...|  1.0|[-3.5902344477089...|       1.0|\n",
      "|        4|but you re iming ...|  1.0|[-0.3822181112482...|       1.0|\n",
      "|        4|challenge exceede...|  1.0|[-1.7843314447931...|       1.0|\n",
      "|        4|coffee mmm lol i ...|  1.0|[-0.1042127352310...|       1.0|\n",
      "|        4|come on nick un c...|  1.0|[-0.9316884061454...|       1.0|\n",
      "|        4|congrats what job...|  1.0|[-1.7556317043806...|       1.0|\n",
      "|        4|dave your delicio...|  1.0|[-1.9566523405031...|       1.0|\n",
      "|        4|do not feel press...|  1.0|[1.01463639294568...|       0.0|\n",
      "|        4|doing this damn o...|  1.0|[2.23066139800049...|       0.0|\n",
      "+---------+--------------------+-----+--------------------+----------+\n",
      "only showing top 20 rows\n",
      "\n"
     ]
    }
   ],
   "source": [
    "predictions.filter(predictions.sentiment==4).select('sentiment', 'text', 'label', 'rawPrediction', 'prediction').show()"
   ]
  },
  {
   "cell_type": "code",
   "execution_count": 19,
   "metadata": {},
   "outputs": [
    {
     "data": {
      "text/plain": [
       "0.8647438662238691"
      ]
     },
     "execution_count": 19,
     "metadata": {},
     "output_type": "execute_result"
    }
   ],
   "source": [
    "from pyspark.ml.evaluation import BinaryClassificationEvaluator\n",
    "evaluator = BinaryClassificationEvaluator(rawPredictionCol=\"rawPrediction\")\n",
    "evaluator.evaluate(predictions)"
   ]
  },
  {
   "cell_type": "code",
   "execution_count": 20,
   "metadata": {},
   "outputs": [
    {
     "data": {
      "text/plain": [
       "0.7948281299274677"
      ]
     },
     "execution_count": 20,
     "metadata": {},
     "output_type": "execute_result"
    }
   ],
   "source": [
    "accuracy = predictions.filter(predictions.label == predictions.prediction).count() / float(val_df.count())\n",
    "accuracy"
   ]
  },
  {
   "cell_type": "code",
   "execution_count": 21,
   "metadata": {},
   "outputs": [],
   "source": [
    "import matplotlib.pyplot as plt"
   ]
  },
  {
   "cell_type": "code",
   "execution_count": 22,
   "metadata": {},
   "outputs": [],
   "source": [
    "%matplotlib inline"
   ]
  },
  {
   "cell_type": "code",
   "execution_count": 23,
   "metadata": {},
   "outputs": [],
   "source": [
    "trainingSummary = clf_model.summary"
   ]
  },
  {
   "cell_type": "code",
   "execution_count": 24,
   "metadata": {},
   "outputs": [
    {
     "data": {
      "image/png": "[encoded data removed]",
      "text/plain": [
       "<matplotlib.figure.Figure at 0x105f04470>"
      ]
     },
     "metadata": {},
     "output_type": "display_data"
    }
   ],
   "source": [
    "# Obtain the objective per iteration\n",
    "objectiveHistory = trainingSummary.objectiveHistory\n",
    "plt.plot(objectiveHistory)\n",
    "plt.ylabel('Objective Function')\n",
    "plt.xlabel('Iteration')\n",
    "plt.show()"
   ]
  },
  {
   "cell_type": "code",
   "execution_count": 25,
   "metadata": {},
   "outputs": [],
   "source": [
    "from pyspark.ml.classification import LinearSVC"
   ]
  },
  {
   "cell_type": "code",
   "execution_count": null,
   "metadata": {},
   "outputs": [],
   "source": [
    "from pyspark.ml.feature import CountVectorizer\n",
    "\n",
    "tokenizer = Tokenizer(inputCol=\"text\", outputCol=\"words\")\n",
    "cv = CountVectorizer(inputCol=\"words\", outputCol='cv')\n",
    "idf = IDF(inputCol='cv', outputCol=\"features\", minDocFreq=5) #minDocFreq: remove sparse terms\n",
    "label_stringIdx = StringIndexer(inputCol = \"sentiment\", outputCol = \"label\")\n",
    "lr = LogisticRegression(maxIter=100)\n",
    "pipeline = Pipeline(stages=[tokenizer, cv, idf, label_stringIdx, lr])"
   ]
  },
  {
   "cell_type": "code",
   "execution_count": null,
   "metadata": {},
   "outputs": [],
   "source": [
    "pipelineFit = pipeline.fit(train_set)\n",
    "predictions = pipelineFit.transform(val_set)\n",
    "accuracy = predictions.filter(predictions.label == predictions.prediction).count() / float(val_set.count())\n",
    "roc_auc = evaluator.evaluate(predictions)\n",
    "\n",
    "print(\"Accuracy Score: {0:.4f}\".format(accuracy))\n",
    "print(\"ROC-AUC: {0:.4f}\".format(roc_auc))"
   ]
  },
  {
   "cell_type": "code",
   "execution_count": 9,
   "metadata": {},
   "outputs": [],
   "source": [
    "from pyspark.ml.classification import NaiveBayes"
   ]
  },
  {
   "cell_type": "code",
   "execution_count": 19,
   "metadata": {},
   "outputs": [],
   "source": [
    "nb = NaiveBayes(smoothing=1)\n",
    "model_nb = nb.fit(train_set)"
   ]
  },
  {
   "cell_type": "code",
   "execution_count": 20,
   "metadata": {},
   "outputs": [],
   "source": [
    "predictions = model_nb.transform(val_set)"
   ]
  },
  {
   "cell_type": "code",
   "execution_count": 21,
   "metadata": {},
   "outputs": [
    {
     "name": "stdout",
     "output_type": "stream",
     "text": [
      "+---------+--------------------+-----+----------+\n",
      "|sentiment|                text|label|prediction|\n",
      "+---------+--------------------+-----+----------+\n",
      "|        0|a bad day is some...|  0.0|       0.0|\n",
      "|        0|a bobbi starrblas...|  0.0|       1.0|\n",
      "|        0|a boring weekend ...|  0.0|       0.0|\n",
      "|        0|a bug s life is s...|  0.0|       0.0|\n",
      "|        0|a busy week ahead...|  0.0|       1.0|\n",
      "|        0|a c in my car doe...|  0.0|       0.0|\n",
      "|        0|           a c tweet|  0.0|       1.0|\n",
      "|        0|a d or and e my c...|  0.0|       1.0|\n",
      "|        0|a day full of hom...|  0.0|       0.0|\n",
      "|        0|a fun evening but...|  0.0|       1.0|\n",
      "|        0|a girl sitting in...|  0.0|       0.0|\n",
      "|        0|a headache once a...|  0.0|       0.0|\n",
      "|        0|a hot hazy and hu...|  0.0|       0.0|\n",
      "|        0|a hour later afte...|  0.0|       1.0|\n",
      "|        0|a keyboard cat no...|  0.0|       0.0|\n",
      "|        0|a kiss though no ...|  0.0|       0.0|\n",
      "|        0|a know a dont loo...|  0.0|       0.0|\n",
      "|        0|a lego projects y...|  0.0|       1.0|\n",
      "|        0|a light breakfast...|  0.0|       0.0|\n",
      "|        0|a little unhappy ...|  0.0|       0.0|\n",
      "+---------+--------------------+-----+----------+\n",
      "only showing top 20 rows\n",
      "\n"
     ]
    }
   ],
   "source": [
    "predictions.select('sentiment', 'text', 'label', 'prediction').show()"
   ]
  },
  {
   "cell_type": "code",
   "execution_count": 22,
   "metadata": {},
   "outputs": [
    {
     "data": {
      "text/plain": [
       "0.767317561647265"
      ]
     },
     "execution_count": 22,
     "metadata": {},
     "output_type": "execute_result"
    }
   ],
   "source": [
    "accuracy = predictions.filter(predictions.label == predictions.prediction).count() / float(val_df.count())\n",
    "accuracy"
   ]
  },
  {
   "cell_type": "code",
   "execution_count": 23,
   "metadata": {},
   "outputs": [],
   "source": [
    "from pyspark.ml.classification import LinearSVC"
   ]
  },
  {
   "cell_type": "code",
   "execution_count": 24,
   "metadata": {},
   "outputs": [],
   "source": [
    "model_svc = LinearSVC(maxIter=10, regParam=0.1)"
   ]
  },
  {
   "cell_type": "code",
   "execution_count": 25,
   "metadata": {},
   "outputs": [],
   "source": [
    "predictions_svc = model_svc.fit(train_set)"
   ]
  },
  {
   "cell_type": "code",
   "execution_count": null,
   "metadata": {},
   "outputs": [],
   "source": []
  }
 ],
 "metadata": {
  "kernelspec": {
   "display_name": "Python 3",
   "language": "python",
   "name": "python3"
  },
  "language_info": {
   "codemirror_mode": {
    "name": "ipython",
    "version": 3
   },
   "file_extension": ".py",
   "mimetype": "text/x-python",
   "name": "python",
   "nbconvert_exporter": "python",
   "pygments_lexer": "ipython3",
   "version": "3.6.3"
  }
 },
 "nbformat": 4,
 "nbformat_minor": 2
}
